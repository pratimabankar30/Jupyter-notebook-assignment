{
  "metadata": {
    "kernelspec": {
      "display_name": "Pyolite",
      "language": "python",
      "name": "python"
    },
    "language_info": {
      "codemirror_mode": {
        "name": "python",
        "version": 3
      },
      "file_extension": ".py",
      "mimetype": "text/x-python",
      "name": "python",
      "nbconvert_exporter": "python",
      "pygments_lexer": "ipython3",
      "version": "3.8"
    }
  },
  "nbformat_minor": 5,
  "nbformat": 4,
  "cells": [
    {
      "cell_type": "markdown",
      "source": "# Data Science Tools and Ecosystem",
      "metadata": {},
      "id": "a35eeb9f-df70-4ab1-a243-2d2025888eb0"
    },
    {
      "cell_type": "markdown",
      "source": "In this notebook, Data Science Tools and Ecosystem are summarized.",
      "metadata": {},
      "id": "507e1388-233b-4c14-bc16-880ca0986bb4"
    },
    {
      "cell_type": "markdown",
      "source": "Some of the popular languages that Data Scientists use are:\n\n1. Python\n2. SQL\n3. R\n4. Scala",
      "metadata": {},
      "id": "ae587d61-2c39-4e5e-8b55-68d5853af581"
    },
    {
      "cell_type": "markdown",
      "source": "Some of the commonly used libraries used by Data Scientists include:\n\n1. TensoreFlow\n2. NumPy\n3. Panda\n4. SciPy\n5. PyTorch",
      "metadata": {},
      "id": "c09eb653-9f2e-42c6-89bf-d0bc05042377"
    },
    {
      "cell_type": "markdown",
      "source": "| Data Science Tools |\n----------------------\n| Jupyter |\n| R Studio |\n| MYSQL |",
      "metadata": {},
      "id": "64193ed9-d415-48ba-8826-b6c235c1d279"
    },
    {
      "cell_type": "markdown",
      "source": "### Below are a few examples of evaluating arithmetic expressions in Python",
      "metadata": {},
      "id": "31d6ae44-16b9-4609-ac31-e4b0a58c7760"
    },
    {
      "cell_type": "code",
      "source": "# This a simple arithmetic expression to mutiply then add integers.\n(3*4)+5",
      "metadata": {
        "trusted": true
      },
      "execution_count": 3,
      "outputs": [
        {
          "execution_count": 3,
          "output_type": "execute_result",
          "data": {
            "text/plain": "17"
          },
          "metadata": {}
        }
      ],
      "id": "bf88d016-a177-4a3d-9dda-e9543e96cebe"
    },
    {
      "cell_type": "code",
      "source": "#This will convert 200 minutes to hours by diving by 60.\n200/60",
      "metadata": {
        "trusted": true
      },
      "execution_count": 5,
      "outputs": [
        {
          "execution_count": 5,
          "output_type": "execute_result",
          "data": {
            "text/plain": "3.3333333333333335"
          },
          "metadata": {}
        }
      ],
      "id": "57f4f36c-b069-469f-9a04-531c0bcb6595"
    },
    {
      "cell_type": "markdown",
      "source": "<b>Objectives:</b>\n\n- List popular languages for Data Science.\n- List of few commonly used libraries.\n- List of commonly used Data Science Tools.\n- Evaluating arithmetic expressions in Python.",
      "metadata": {},
      "id": "f1d3197c-a5af-4f3c-b9cf-795c4f1b7074"
    },
    {
      "cell_type": "markdown",
      "source": "## Author\nPratima Nivrutti Bankar",
      "metadata": {},
      "id": "80ea4338-805c-40fb-a253-470cdb60f976"
    },
    {
      "cell_type": "code",
      "source": "",
      "metadata": {},
      "execution_count": null,
      "outputs": [],
      "id": "b7ef5f39-8580-4f78-b1b6-9fcd11ebdc7c"
    }
  ]
}